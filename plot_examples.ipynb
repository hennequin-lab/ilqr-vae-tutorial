{
 "cells": [
  {
   "cell_type": "code",
   "execution_count": null,
   "id": "diagnostic-fourth",
   "metadata": {},
   "outputs": [],
   "source": [
    "#require \"juplot\""
   ]
  },
  {
   "cell_type": "code",
   "execution_count": null,
   "id": "overhead-layout",
   "metadata": {},
   "outputs": [],
   "source": [
    "open Owl"
   ]
  },
  {
   "cell_type": "code",
   "execution_count": null,
   "id": "steady-minimum",
   "metadata": {
    "scrolled": true
   },
   "outputs": [],
   "source": [
    "let _ =\n",
    "  let open Gp in\n",
    "  let figure (module P : Plot) =\n",
    "    P.multiplot\n",
    "      ~rect:((0.2, 0.2), (0.8, 0.8))\n",
    "      ~spacing:(0.05, 0.2)\n",
    "      (2, 3)\n",
    "      (fun ~margins _ i j ->\n",
    "        let x = Mat.linspace 0. Const.pi2 100 in\n",
    "        let y = Mat.(cos (Float.of_int j $+ x *$ Float.of_int Int.(i + 1))) in\n",
    "        P.plot\n",
    "          (L [ x; y ])\n",
    "          (default_props @ [ yrange (-1., 1.); ytics (`regular [ 0.; 1. ]); margins ]))\n",
    "  in\n",
    "  Juplot.draw ~fmt:`svg figure"
   ]
  },
  {
   "cell_type": "code",
   "execution_count": null,
   "id": "rubber-methodology",
   "metadata": {},
   "outputs": [],
   "source": [
    "(* animation example *)\n",
    "let _ =\n",
    "  let open Gp in\n",
    "  let display_id = Jupyter_notebook.display \"text/html\" \"\" in\n",
    "  let plot phase (module P : Plot) = P.ex Printf.(sprintf \"plot sin(x+%f)\" phase) in\n",
    "  Mat.linspace 0. Const.pi2 100\n",
    "  |> Mat.iter (fun phase ->\n",
    "         Juplot.draw ~fmt:`svg ~size:(300, 200) ~display_id (plot phase);\n",
    "         Unix.sleepf 0.01)"
   ]
  },
  {
   "cell_type": "code",
   "execution_count": null,
   "id": "strong-missile",
   "metadata": {},
   "outputs": [],
   "source": []
  }
 ],
 "metadata": {
  "kernelspec": {
   "display_name": "OCaml 4.11.1+flambda",
   "language": "OCaml",
   "name": "ocaml-jupyter"
  },
  "language_info": {
   "codemirror_mode": "text/x-ocaml",
   "file_extension": ".ml",
   "mimetype": "text/x-ocaml",
   "name": "OCaml",
   "nbconverter_exporter": null,
   "pygments_lexer": "OCaml",
   "version": "4.11.1"
  }
 },
 "nbformat": 4,
 "nbformat_minor": 5
}
